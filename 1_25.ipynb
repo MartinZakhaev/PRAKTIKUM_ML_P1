{
 "cells": [
  {
   "cell_type": "code",
   "execution_count": 5,
   "metadata": {},
   "outputs": [
    {
     "name": "stdout",
     "output_type": "stream",
     "text": [
      "menampilkan elemen DataFrame lama\n",
      "           Nama  Tabungan  Umur\n",
      "urutan 1   Amir    500000    28\n",
      "urutan 2   Budi    340000    34\n",
      "urutan 3  Cindi    295000    29\n",
      "urutan 4   Doni    420000    42\n",
      "menampilkan elemen DataFrame baru\n",
      "           Nama  Umur\n",
      "urutan 1   Amir    28\n",
      "urutan 2   Budi    34\n",
      "urutan 3  Cindi    29\n",
      "urutan 4   Doni    42\n",
      "Nama        object\n",
      "Tabungan     int64\n",
      "Umur         int64\n",
      "dtype: object\n"
     ]
    }
   ],
   "source": [
    "import pandas as pd\n",
    "\n",
    "data = {\n",
    "        'Nama': ['Amir', 'Budi', 'Cindi', 'Doni'], \n",
    "        'Tabungan': [500000, 340000, 295000, 420000], \n",
    "        'Umur': [28,34,29,42]\n",
    "        }\n",
    "old_df = pd.DataFrame(data, index=['urutan 1', 'urutan 2', 'urutan 3', 'urutan 4'])\n",
    "print('menampilkan elemen DataFrame lama')\n",
    "print(old_df)\n",
    "new_df = old_df.drop('Tabungan', axis=1)\n",
    "print('menampilkan elemen DataFrame baru')\n",
    "print(new_df)"
   ]
  },
  {
   "cell_type": "code",
   "execution_count": null,
   "metadata": {},
   "outputs": [],
   "source": []
  }
 ],
 "metadata": {
  "kernelspec": {
   "display_name": "Python 3",
   "language": "python",
   "name": "python3"
  },
  "language_info": {
   "codemirror_mode": {
    "name": "ipython",
    "version": 3
   },
   "file_extension": ".py",
   "mimetype": "text/x-python",
   "name": "python",
   "nbconvert_exporter": "python",
   "pygments_lexer": "ipython3",
   "version": "3.10.9"
  }
 },
 "nbformat": 4,
 "nbformat_minor": 2
}
