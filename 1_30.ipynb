{
 "cells": [
  {
   "cell_type": "code",
   "execution_count": 2,
   "metadata": {},
   "outputs": [
    {
     "name": "stdout",
     "output_type": "stream",
     "text": [
      "Elemen data awal\n",
      "   Data_1  Data_2  Data_3  Data_4\n",
      "a     1.0     NaN    20.0    21.0\n",
      "b     2.0     2.0    40.0    42.0\n",
      "c     3.0     NaN     NaN     NaN\n",
      "d     4.0     4.0    60.0    64.0\n",
      "e     NaN     6.0     NaN     NaN\n",
      "Setelah hapus kolom Data_4 dengan method drop\n",
      "   Data_1  Data_2  Data_3\n",
      "a     1.0     NaN    20.0\n",
      "b     2.0     2.0    40.0\n",
      "c     3.0     NaN     NaN\n",
      "d     4.0     4.0    60.0\n",
      "e     NaN     6.0     NaN\n"
     ]
    }
   ],
   "source": [
    "import pandas as pd\n",
    "\n",
    "data_dict = {'Data_1': pd.Series([1, 2, 3, 4], index=['a', 'b', 'c', 'd']),\n",
    "'Data_2': pd.Series([2, 4, 6], index=['b', 'd', 'e']),\n",
    "'Data_3': pd.Series([20, 40, 60], index=['a', 'b', 'd']),\n",
    "'Data_4':pd.Series([21, 42, 64], index=['a', 'b', 'd'])}\n",
    "df = pd.DataFrame(data_dict)\n",
    "print('Elemen data awal')\n",
    "print(df)\n",
    "df = df.drop(['Data_4'], axis=1 )\n",
    "print('Setelah hapus kolom Data_4 dengan method drop')\n",
    "print(df)\n"
   ]
  }
 ],
 "metadata": {
  "kernelspec": {
   "display_name": "Python 3",
   "language": "python",
   "name": "python3"
  },
  "language_info": {
   "codemirror_mode": {
    "name": "ipython",
    "version": 3
   },
   "file_extension": ".py",
   "mimetype": "text/x-python",
   "name": "python",
   "nbconvert_exporter": "python",
   "pygments_lexer": "ipython3",
   "version": "3.10.9"
  }
 },
 "nbformat": 4,
 "nbformat_minor": 2
}
